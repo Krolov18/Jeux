{
 "metadata": {
  "name": ""
 },
 "nbformat": 3,
 "nbformat_minor": 0,
 "worksheets": [
  {
   "cells": [
    {
     "cell_type": "code",
     "collapsed": false,
     "input": [
      "__authors__ = \"LANCIEN M\u00e9lanie, LEVEQUE Korantin\""
     ],
     "language": "python",
     "metadata": {},
     "outputs": []
    },
    {
     "cell_type": "code",
     "collapsed": false,
     "input": [
      "# -*- coding: utf8 -*-"
     ],
     "language": "python",
     "metadata": {},
     "outputs": []
    },
    {
     "cell_type": "heading",
     "level": 1,
     "metadata": {},
     "source": [
      "Pendu : Jeu"
     ]
    },
    {
     "cell_type": "heading",
     "level": 2,
     "metadata": {},
     "source": [
      "Partie 1 : Les importations de modules compl\u00e9mentaires"
     ]
    },
    {
     "cell_type": "code",
     "collapsed": false,
     "input": [
      "from tkinter import * \n",
      "from tkinter.messagebox import *\n",
      "from random import choice\n",
      "import argparse\n",
      "import codecs"
     ],
     "language": "python",
     "metadata": {},
     "outputs": []
    },
    {
     "cell_type": "heading",
     "level": 2,
     "metadata": {},
     "source": [
      "Partie 2 : argument obligatoire : Le Lexique"
     ]
    },
    {
     "cell_type": "code",
     "collapsed": false,
     "input": [
      "parseur = argparse.ArgumentParser(desc = \"Script qui lance le jeu du Pendu\")\n",
      "parseur.add_argument('lexique', help = \"fichier contenant des mots\", type=open)\n",
      "arguments = parseur.parse_args()\n",
      "lexique = arguments.lexique"
     ],
     "language": "python",
     "metadata": {},
     "outputs": []
    },
    {
     "cell_type": "heading",
     "level": 2,
     "metadata": {},
     "source": [
      "Partie 3 : Fonction selectionnant de mani\u00e8re al\u00e9atoire une r\u00e9ponse parmi la liste."
     ]
    },
    {
     "cell_type": "code",
     "collapsed": false,
     "input": [
      "def chercher_reponse(fichierTxt):\n",
      "\tlettres = [\"a\",\"z\",\"e\",\"r\",\"t\",\"y\",\"u\",\"i\",\"o\",\"p\",\"s\",\"d\",\"f\",\"g\",\"j\",\"k\",\"l\",\"m\",\"w\",\"v\",\"b\",\"n\"]\n",
      "\twith codecs.open(fichierTxt,mode = \"r\",encoding = \"utf-8\") as reponses:\n",
      "\t\ttempListe = reponses.readlines()\n",
      "\t\tlistelettres = set(\"\".join(tempListe))\n",
      "\t\tlettres_poubelle = list(listelettres - set(lettres))\n",
      "\t\treponse = choice([x.strip().spl it(';')[1] for x in tempListe if (len(x.strip().split(';')[1]) == 7) and ( not any(lettre in x.strip().split(';')[1] for lettre in lettres_poubelle))])\n",
      "\t\t#print(reponse)\n",
      "\t\treturn reponse"
     ],
     "language": "python",
     "metadata": {},
     "outputs": []
    },
    {
     "cell_type": "heading",
     "level": 2,
     "metadata": {},
     "source": [
      "Partie 4 : Initiation au statement lambda"
     ]
    },
    {
     "cell_type": "heading",
     "level": 3,
     "metadata": {},
     "source": [
      "<i>lambda statement</i> fonctionne comme le statement def mais permet de n'avoir qu'une ligne ainsi que de d\u00e9finir une fonction comme un appel de variable."
     ]
    },
    {
     "cell_type": "heading",
     "level": 4,
     "metadata": {},
     "source": [
      "Cette fonction va donc r\u00e9cup\u00e9rer l'indice de la lettre dans le mot \u00e0 l'aide de la fonction enumerate()"
     ]
    },
    {
     "cell_type": "code",
     "collapsed": false,
     "input": [
      "recuperer_indices = lambda mot, lettre: [indice for indice, string in enumerate(mot) if string==lettre]"
     ],
     "language": "python",
     "metadata": {},
     "outputs": []
    },
    {
     "cell_type": "heading",
     "level": 1,
     "metadata": {},
     "source": [
      "Partie 5 : Initiation aux classes, aux instances et aux m\u00e9thodes"
     ]
    },
    {
     "cell_type": "heading",
     "level": 2,
     "metadata": {},
     "source": [
      "Cette classe Pendu prend pour argument Frame (de la classe tkinter). Ainsi la classe Pendu h\u00e9rite des m\u00e9thodes de Frame."
     ]
    },
    {
     "cell_type": "heading",
     "level": 3,
     "metadata": {},
     "source": [
      "Cette classe se d\u00e9coupe en deux parties. D'abord le <a style=\"color:#FF0000\">constructeur</a> puis ses m\u00e9thodes.\n",
      "\n",
      "Le constructeur est compos\u00e9 d'une commentaire, d'une premi\u00e8re ligne qui permet de modifier le constructeur de Frame (<a style=\"color:#FF0000\">polymorphisme</a>).\n",
      "\n",
      "Puis on d\u00e9finit dans cette m\u00e9thode les diff\u00e9rents \u00e9l\u00e9ments dont nous aurons besoin pour l'interface graphique (arguments d'instance, boutons, labels et champs de saisie).\n",
      "\n",
      "On nommera aussi le nom des m\u00e9thodes que les boutons commanderont."
     ]
    },
    {
     "cell_type": "heading",
     "level": 3,
     "metadata": {},
     "source": [
      "Comme l'interface tkinter est une boucle, chaque m\u00e9thode d\u00e9finie \u00e0 la suite de la m\u00e9thode constructrice sont soit des conditions, soit des actions. Aucunes boucles n'est pr\u00e9sente dans ce script hormis l'interface elle m\u00eame."
     ]
    },
    {
     "cell_type": "code",
     "collapsed": false,
     "input": [
      "class Pendu(Frame): \n",
      "\tdef __init__(self, parent):\n",
      "\t\t\"\"\"\n",
      "\t\tFonction d'initialisation. Dans ce cas-ci cette fonction va d\u00e9finir toute la partie graphique.\n",
      "\t\tla fenetre principale, les boutons, les labels, et les champs de saisie sans oublier le label de l'image.\n",
      "\t\t\"\"\"\n",
      "\t\tFrame.__init__(self, parent)\n",
      "\t\tparent.title('Pendu')\n",
      "\t\tself.mot2discover = \"\"\n",
      "\t\tself.motCache  = \"\"\n",
      "\t\tself.nbEssai = 0\n",
      "\t\tself.img = PhotoImage(file = \"image_pendu/pendu0.gif\")\n",
      "\t\tself.path = \"image_pendu/pendu{0}.gif\"\n",
      "\t\tself.configure(background='lightsteelblue3')\n",
      "\t\t\n",
      "\n",
      "\t\tbouton = Button(self, text='[kite]', width=5, height=1, fg=\"red4\", font=(\"comic sans ms\",\"10\",\"bold\"), command=self.quit)\n",
      "\t\tbouton.grid(row=5 , column=2)\n",
      "\n",
      "\t\tbouton = Button(self, text='[\u0292uwe]', width=5, height=1, fg=\"red4\", font=(\"comic sans ms\",\"10\",\"bold\"), command = self.initialiser_jeu)\n",
      "\t\tbouton.grid(row=0 , column=3, sticky=E)\n",
      "\n",
      "\t\tbouton = Button(self, text='ok',font=(\"comic sans ms\",\"10\",\"bold\"),fg=\"black\", command= self.jouer)\n",
      "\t\tbouton.grid(row=2 , column=3, columnspan=2)\n",
      "\n",
      "\t\tself.label = Label(self, image = self.img, width=240, height=320)\n",
      "\t\tself.label.grid(row = 0, rowspan=5, column=0,sticky=\"W\" )\n",
      "\n",
      "\t\tlabel = Label(self, text=' Bienvenue dans notre pendu phon\u00e9tique ! Clique sur ',font=(\"comic sans ms\", \"11\", \"bold\"), fg=\"black\")\n",
      "\t\tlabel.grid(row =0, column=2)\n",
      "\t\t\n",
      "\t\tlabel = Label(self, text=' [mo a dekuvrir] ',font=(\"comic sans ms\", \"10\", \"bold\"), fg=\"black\")\n",
      "\t\tlabel.grid(row =1, column=2, sticky=W)\n",
      "\n",
      "\t\tlabel = Label(self, text=' [tape yn l\u025btr\u0259] ',font=(\"comic sans ms\", \"10\", \"bold\"), fg=\"black\")\n",
      "\t\tlabel.grid(row =2, column=2, sticky=W)\n",
      "\n",
      "\t\tself.entreemotCache = Entry(self)\n",
      "\t\tself.entreemotCache.grid(row =1, column =2)\n",
      "\n",
      "\t\tself.entreeUtilisateur = Entry(self)\n",
      "\t\tself.entreeUtilisateur.grid(row =2, column =2)\n",
      "\n",
      "\t\n",
      "\tdef verifier_proposition(self, proposition):\n",
      "\t\t\"\"\"\n",
      "\t\tverification de la longueur et la valeur alphab\u00e9tique de la proposition de l'utilisateur\n",
      "\t\tValeur renvoy\u00e9e : proposition type : 'string' \"\"\"\n",
      "\t\tif len(proposition) != 1 and proposition.isalpha():\n",
      "\t\t\tshowinfo('[er\u0153r]','[probl\u025bm av\u025bk la l\u00f5g\u0153r]')\n",
      "\t\telif not proposition.isalpha():\n",
      "\t\t\tshowinfo('[er\u0153r]', \"[la propozisj\u00f5 ne pa alfabetik]\")\n",
      "\t\telse:\n",
      "\t\t\treturn proposition\n",
      "\t\n",
      "\n",
      "\tdef afficher_proposition(self, lettre):\n",
      "\t\t\"\"\"\n",
      "\t\tcreation de motcache en une liste afin de pouvoir changer ses '_' par les proposition de l'utilisateur faisant partie du mot \u00e0 trouver\n",
      "\t\tValeur renvoyee : motCache type : 'string'\n",
      "\t\t\"\"\"\n",
      "\t\tindices = recuperer_indices(self.mot2discover, lettre)\n",
      "\t\tif len(indices) > 0 :\n",
      "\t\t\tlistMotcache = list(self.motCache)\n",
      "\t\t\tfor ind in indices :\n",
      "\t\t\t\tlistMotcache[ind] = lettre\n",
      "\t\t\tself.motCache = \"\".join(listMotcache)\n",
      " \n",
      "\tdef rafraichir_jeu(self):\n",
      "\t\t\"\"\"\n",
      "\t\tFonction qui va permettre de remettre \u00e0 z\u00e9ro la zone de la variable motCache (soit remplacer les caract\u00e8res pr\u00e9sents par les '_' de d\u00e9part.\n",
      "\t\teffacement du champ suivi de l'insertion de la variable motCache \u00e0 son \u00e9tat initial\n",
      "\t\t\"\"\"\n",
      "\t\tself.entreemotCache.delete(0, END)\n",
      "\t\tself.entreemotCache.insert(0, self.motCache)\n",
      "\n",
      " \n",
      "\tdef creer_motCache(self):\n",
      "\t\t\"\"\"\n",
      "\t\tChoix d'un mot dans une liste, mot qu'on va transformer en une liste de tirets de la longueur du mot lui-m\u00eame. motCache servira de base pour la fonction afficher_proposition\n",
      "\t\tValeur renvoyee : motCache ; type: 'string'\n",
      "\t\t\"\"\"\n",
      "\t\tself.mot2discover = chercher_reponse(bdlexique)\n",
      "\t\tself.motCache  = ''.join(['_' for lettre in self.mot2discover])\n",
      " \n",
      "\tdef initialiser_jeu(self):\n",
      "\t\t\"\"\"\n",
      "\t\tOn lance les fonctions creer_motCache et raffraichir_jeu, fonction qui servira de gachette pour le bouton 'jouer' \"\"\"\n",
      "\t\tself.creer_motCache()\n",
      "\t\tself.rafraichir_jeu()\n",
      "\t\tself.img = PhotoImage(file = \"image_pendu/pendu0.gif\")\n",
      " \n",
      "\tdef afficher_reussite(self):\n",
      "\t\t\"\"\"\n",
      "\t\tfonction qui fait apparaitre les message de r\u00e9ussite ou de perte du joueur.\"\"\"\n",
      "\t\tif self.nbEssai >= 10 :\n",
      "\t\t\tshowinfo(self, message = \"/ju: 'l\u0252st/\")\n",
      "\t\telif '_' not in self.motCache :\n",
      "\t\t\tshowinfo(self, message = \"/ju: 'w\u026an/\")\n",
      "\n",
      "\tdef changer_image(self, essai):\n",
      "\t\t\"\"\"\n",
      "\t\tChangement d'image par la variable essai\n",
      "\t\t\"\"\"\n",
      "\t\tself.img = PhotoImage(file=self.path.format(essai))\n",
      "\t\tself.label.configure(image = self.img)\n",
      "\n",
      "\n",
      "\tdef jouer(self):\n",
      "\t\t\"\"\"\n",
      "\t\tM\u00e9canisme principal du script. Bloc conditionnel qui permet de voir si la proposition du joueur est dans le mot-solution ou pas.\n",
      "\t\t'if' v\u00e9rifie si la saisie du joueur n'est pas dans mot2discover. il sera alors ajout\u00e9 1 \u00e0 nbEssai et nbEssai est pass\u00e9 en argument \u00e0 afficher_pendu(nbEssai).\"\"\"\n",
      "\t\tsaisie = self.verifier_proposition(self.entreeUtilisateur.get())\n",
      "\t\tself.entreeUtilisateur.delete(0, END)\n",
      "\t\tif saisie not in self.mot2discover:\n",
      "\t\t\tself.nbEssai += 1\n",
      "\t\t\tself.changer_image(self.nbEssai)\n",
      "\t\telse:\n",
      "\t\t\tself.afficher_proposition(saisie)\n",
      "\t\t\tself.rafraichir_jeu()\n",
      "\t\tself.afficher_reussite()"
     ],
     "language": "python",
     "metadata": {},
     "outputs": []
    },
    {
     "cell_type": "heading",
     "level": 1,
     "metadata": {},
     "source": [
      "Partie 6 : Fonction principale"
     ]
    },
    {
     "cell_type": "heading",
     "level": 2,
     "metadata": {},
     "source": [
      "Fonction qui instancie la classe Tk(), puis configure la couleur de l'arri\u00e8re plan, on d\u00e9finit aussi sa taille.<br>\n",
      "On instencie une nouvelle classe, Pendu, \u00e0 laquelle on donne en argument \"root\". Comme la classe Pendu h\u00e9rite des \u00e9l\u00e9ment de Frame, on lui passe comme m\u00e9thode '.pack()'.<br>\n",
      "Puis on ferme la boucle avec la m\u00e9thode '.mainloop()' pass\u00e9 \u00e0 root.<br>"
     ]
    },
    {
     "cell_type": "code",
     "collapsed": false,
     "input": [
      "def main():\n",
      "    root = Tk() \n",
      "    root.configure(background='lightsteelblue4')\n",
      "    root.minsize(650,350) \n",
      "    pendu = Pendu(root) \n",
      "    pendu.pack() \n",
      "    root.mainloop()"
     ],
     "language": "python",
     "metadata": {},
     "outputs": []
    },
    {
     "cell_type": "heading",
     "level": 1,
     "metadata": {},
     "source": [
      "Partie 7 : Execution automatique du code"
     ]
    },
    {
     "cell_type": "heading",
     "level": 2,
     "metadata": {},
     "source": [
      "Les deux lignes qui suivent permettent de lancer le script tout en ayant la possibilit\u00e9 d'importe de fichier afin d'uiliser la classe et ses m\u00e9thodes dans d'autres scripts. (h\u00e9ritage et polymorphisme)"
     ]
    },
    {
     "cell_type": "code",
     "collapsed": false,
     "input": [
      "if __name__ == \"__main__\":\n",
      "    main()"
     ],
     "language": "python",
     "metadata": {},
     "outputs": []
    }
   ],
   "metadata": {}
  }
 ]
}